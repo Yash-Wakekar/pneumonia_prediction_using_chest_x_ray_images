{
  "nbformat": 4,
  "nbformat_minor": 0,
  "metadata": {
    "colab": {
      "provenance": []
    },
    "kernelspec": {
      "name": "python3",
      "display_name": "Python 3"
    },
    "language_info": {
      "name": "python"
    }
  },
  "cells": [
    {
      "cell_type": "code",
      "execution_count": null,
      "metadata": {
        "id": "Qk35QXzeHIQ1"
      },
      "outputs": [],
      "source": [
        "import tensorflow as tf\n",
        "from keras.preprocessing.image import ImageDataGenerator"
      ]
    },
    {
      "cell_type": "code",
      "source": [
        "from google.colab import drive\n",
        "drive.mount('/content/drive')"
      ],
      "metadata": {
        "colab": {
          "base_uri": "https://localhost:8080/"
        },
        "id": "9AaYX0SpHRZF",
        "outputId": "38a81dee-0d00-4272-c99a-b9c9b395a9fc"
      },
      "execution_count": null,
      "outputs": [
        {
          "output_type": "stream",
          "name": "stdout",
          "text": [
            "Mounted at /content/drive\n"
          ]
        }
      ]
    },
    {
      "cell_type": "code",
      "source": [
        "train_datagen = ImageDataGenerator(rescale = 1./255,\n",
        "                                   shear_range = 10,\n",
        "                                   zoom_range = 0.25,\n",
        "                                   horizontal_flip = True,\n",
        "                                   vertical_flip=True,\n",
        "                                   width_shift_range = 0.2,\n",
        "                                   rotation_range=20,\n",
        "                                   fill_mode = 'nearest')\n",
        "training_set = train_datagen.flow_from_directory('/content/drive/MyDrive/ML_miniproject/archive (1)/chest_xray (1)/train (1)',\n",
        "                                                 target_size = (224, 224),\n",
        "                                                 batch_size = 32,\n",
        "                                                 class_mode = 'binary')\n",
        "\n",
        "test_datagen = ImageDataGenerator(rescale = 1/255)\n",
        "test_set = test_datagen.flow_from_directory('/content/drive/MyDrive/ML_miniproject/archive (1)/chest_xray (1)/test (1)',\n",
        "                                            target_size = (224, 224),\n",
        "                                            batch_size = 32,\n",
        "                                            class_mode = 'binary')\n",
        "\n",
        "val_datagen = ImageDataGenerator(rescale = 1/255)\n",
        "val_set = test_datagen.flow_from_directory('/content/drive/MyDrive/ML_miniproject/archive (1)/chest_xray (1)/val (1)',\n",
        "                                            target_size=(224,224),\n",
        "                                           batch_size = 2,\n",
        "                                           class_mode = 'binary')"
      ],
      "metadata": {
        "colab": {
          "base_uri": "https://localhost:8080/"
        },
        "id": "gHRxARQ1HTUu",
        "outputId": "e1918fb7-9045-4688-c0ea-442f891b782f"
      },
      "execution_count": null,
      "outputs": [
        {
          "output_type": "stream",
          "name": "stdout",
          "text": [
            "Found 5219 images belonging to 2 classes.\n",
            "Found 624 images belonging to 2 classes.\n",
            "Found 16 images belonging to 2 classes.\n"
          ]
        }
      ]
    },
    {
      "cell_type": "code",
      "source": [
        "early_stopping = tf.keras.callbacks.EarlyStopping(monitor='val_loss',\n",
        "                                                  patience=10)"
      ],
      "metadata": {
        "id": "exSKWlYZHoKc"
      },
      "execution_count": null,
      "outputs": []
    },
    {
      "cell_type": "code",
      "source": [],
      "metadata": {
        "id": "tDFnwwI6-fum"
      },
      "execution_count": null,
      "outputs": []
    },
    {
      "cell_type": "code",
      "source": [
        "lr = tf.keras.callbacks.ReduceLROnPlateau(monitor='val_loss',\n",
        "                                          patience=8)"
      ],
      "metadata": {
        "id": "hHTkIUc-Htgr"
      },
      "execution_count": null,
      "outputs": []
    },
    {
      "cell_type": "code",
      "source": [
        "def create_model():\n",
        "  resnet_model = tf.keras.applications.ResNet50V2(\n",
        "        weights='imagenet',\n",
        "        include_top = False,\n",
        "        input_shape = (224,224,3)\n",
        "    )\n",
        "  for layer in resnet_model.layers:\n",
        "        layer.trainable=False\n",
        "  x = resnet_model.output\n",
        "  x=(tf.keras.layers.MaxPool2D(pool_size=2, strides=2))(x)\n",
        "  x=(tf.keras.layers.Flatten())(x)\n",
        "  x=(tf.keras.layers.Dense(units=128, activation='relu'))(x)\n",
        "  predictions=(tf.keras.layers.Dense(units=1, activation='sigmoid'))(x)\n",
        "  res_model = tf.keras.Model(inputs=resnet_model.input, outputs=predictions)\n",
        "  res_model.compile(optimizer = 'adam', loss = 'binary_crossentropy', metrics = ['accuracy'])\n",
        "  return res_model"
      ],
      "metadata": {
        "id": "Uo5w7uTwHx5U"
      },
      "execution_count": null,
      "outputs": []
    },
    {
      "cell_type": "code",
      "source": [
        "res_model_new = create_model()"
      ],
      "metadata": {
        "colab": {
          "base_uri": "https://localhost:8080/"
        },
        "id": "chP8DVN8I7f4",
        "outputId": "993069c5-5615-4b1f-a171-391dba7695ec"
      },
      "execution_count": null,
      "outputs": [
        {
          "output_type": "stream",
          "name": "stdout",
          "text": [
            "Downloading data from https://storage.googleapis.com/tensorflow/keras-applications/resnet/resnet50v2_weights_tf_dim_ordering_tf_kernels_notop.h5\n",
            "94674944/94668760 [==============================] - 1s 0us/step\n",
            "94683136/94668760 [==============================] - 1s 0us/step\n"
          ]
        }
      ]
    },
    {
      "cell_type": "code",
      "source": [
        "res_model_new.fit(x = training_set, validation_data=val_set,steps_per_epoch=100,callbacks=[early_stopping,lr], epochs = 7,batch_size=32)"
      ],
      "metadata": {
        "colab": {
          "base_uri": "https://localhost:8080/"
        },
        "id": "pGj-QqQyHpBo",
        "outputId": "710896eb-5824-46bc-ba64-502911543966"
      },
      "execution_count": null,
      "outputs": [
        {
          "output_type": "stream",
          "name": "stdout",
          "text": [
            "Epoch 1/7\n",
            "100/100 [==============================] - 691s 5s/step - loss: 0.5841 - accuracy: 0.8568 - val_loss: 0.3316 - val_accuracy: 0.9375 - lr: 0.0010\n",
            "Epoch 2/7\n",
            "100/100 [==============================] - 517s 5s/step - loss: 0.2000 - accuracy: 0.9205 - val_loss: 0.3385 - val_accuracy: 0.9375 - lr: 0.0010\n",
            "Epoch 3/7\n",
            "100/100 [==============================] - 526s 5s/step - loss: 0.1547 - accuracy: 0.9357 - val_loss: 0.3907 - val_accuracy: 0.8750 - lr: 0.0010\n",
            "Epoch 4/7\n",
            "100/100 [==============================] - 524s 5s/step - loss: 0.1569 - accuracy: 0.9350 - val_loss: 0.5733 - val_accuracy: 0.8750 - lr: 0.0010\n",
            "Epoch 5/7\n",
            "100/100 [==============================] - 517s 5s/step - loss: 0.1314 - accuracy: 0.9480 - val_loss: 0.4749 - val_accuracy: 0.8750 - lr: 0.0010\n",
            "Epoch 6/7\n",
            "100/100 [==============================] - 526s 5s/step - loss: 0.1307 - accuracy: 0.9502 - val_loss: 0.3768 - val_accuracy: 0.9375 - lr: 0.0010\n",
            "Epoch 7/7\n",
            "100/100 [==============================] - 517s 5s/step - loss: 0.1393 - accuracy: 0.9422 - val_loss: 0.2831 - val_accuracy: 0.8750 - lr: 0.0010\n"
          ]
        },
        {
          "output_type": "execute_result",
          "data": {
            "text/plain": [
              "<keras.callbacks.History at 0x7f2a0e7cc150>"
            ]
          },
          "metadata": {},
          "execution_count": 8
        }
      ]
    },
    {
      "cell_type": "code",
      "source": [
        "from keras.callbacks import ModelCheckpoint\n",
        "mc = ModelCheckpoint('best_model.h5', monitor='val_loss', mode='min', save_best_only=True)\n",
        "mc"
      ],
      "metadata": {
        "colab": {
          "base_uri": "https://localhost:8080/"
        },
        "id": "CLq2Qn2vaRQT",
        "outputId": "874a062d-4109-4a67-ae79-90f8464d7474"
      },
      "execution_count": null,
      "outputs": [
        {
          "output_type": "execute_result",
          "data": {
            "text/plain": [
              "<keras.callbacks.ModelCheckpoint at 0x7f2a05a616d0>"
            ]
          },
          "metadata": {},
          "execution_count": 12
        }
      ]
    },
    {
      "cell_type": "code",
      "source": [
        "res_model_new.save('final_model_resnet.h5') "
      ],
      "metadata": {
        "id": "QRxzvV3EJQvm"
      },
      "execution_count": null,
      "outputs": []
    },
    {
      "cell_type": "code",
      "source": [
        "score = res_model_new.evaluate(training_set)\n",
        "\n",
        "print(\"Train Loss: \", score[0])\n",
        "print(\"Train Accuracy: \", score[1])\n",
        "\n",
        "score = res_model_new.evaluate(test_set)\n",
        "print(\"\\nTest loss: \", score[0])\n",
        "print(\"Test Accuracy: \", score[1])"
      ],
      "metadata": {
        "colab": {
          "base_uri": "https://localhost:8080/"
        },
        "id": "XOHYQ3pWeu17",
        "outputId": "8253a15d-89f1-4bb5-d3c3-a16d6080d122"
      },
      "execution_count": null,
      "outputs": [
        {
          "output_type": "stream",
          "name": "stdout",
          "text": [
            "164/164 [==============================] - 833s 5s/step - loss: 0.1612 - accuracy: 0.9373\n",
            "Train Loss:  0.16122178733348846\n",
            "Train Accuracy:  0.9373443126678467\n",
            "20/20 [==============================] - 219s 11s/step - loss: 0.2674 - accuracy: 0.9087\n",
            "\n",
            "Test loss:  0.2673688530921936\n",
            "Test Accuracy:  0.9086538553237915\n"
          ]
        }
      ]
    }
  ]
}