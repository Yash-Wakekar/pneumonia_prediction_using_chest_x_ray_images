{
  "nbformat": 4,
  "nbformat_minor": 0,
  "metadata": {
    "colab": {
      "provenance": []
    },
    "kernelspec": {
      "name": "python3",
      "display_name": "Python 3"
    },
    "language_info": {
      "name": "python"
    }
  },
  "cells": [
    {
      "cell_type": "code",
      "execution_count": null,
      "metadata": {
        "id": "slg26Ku3dyzS"
      },
      "outputs": [],
      "source": [
        "import tensorflow as tf\n",
        "from keras.preprocessing.image import ImageDataGenerator\n",
        "from tensorflow.keras.layers import Dense,Flatten\n",
        "\n",
        "from tensorflow.keras.models import Sequential\n",
        "from tensorflow.keras.optimizers import Adam \n",
        "import warnings\n",
        "from keras.models import Sequential\n",
        "from keras.layers import Conv2D, MaxPooling2D, Dense, Flatten, Dropout"
      ]
    },
    {
      "cell_type": "code",
      "source": [
        "from google.colab import drive\n",
        "drive.mount('/content/drive')"
      ],
      "metadata": {
        "colab": {
          "base_uri": "https://localhost:8080/"
        },
        "id": "Av7tD1URd4Eb",
        "outputId": "fbf99ae4-af9c-45cf-f29b-4763e7bad75a"
      },
      "execution_count": null,
      "outputs": [
        {
          "output_type": "stream",
          "name": "stdout",
          "text": [
            "Drive already mounted at /content/drive; to attempt to forcibly remount, call drive.mount(\"/content/drive\", force_remount=True).\n"
          ]
        }
      ]
    },
    {
      "cell_type": "code",
      "source": [
        "train_datagen = ImageDataGenerator(rescale = 1./255,\n",
        "                                   shear_range = 10,\n",
        "                                   zoom_range = 0.25,\n",
        "                                   horizontal_flip = True,\n",
        "                                   vertical_flip=True,\n",
        "                                   width_shift_range = 0.2,\n",
        "                                   rotation_range=20,\n",
        "                                   fill_mode = 'nearest')\n",
        "training_set = train_datagen.flow_from_directory('/content/drive/MyDrive/ML_miniproject/archive (1)/chest_xray (1)/train (1)',\n",
        "                                                 target_size = (224, 224),\n",
        "                                                 color_mode=\"rgb\",\n",
        "                                                 batch_size = 32,\n",
        "                                                 class_mode = 'binary')\n",
        "\n",
        "test_datagen = ImageDataGenerator(rescale = 1/255)\n",
        "test_set = test_datagen.flow_from_directory('/content/drive/MyDrive/ML_miniproject/archive (1)/chest_xray (1)/test (1)',\n",
        "                                            target_size = (224, 224),\n",
        "                                            color_mode=\"rgb\",\n",
        "                                            batch_size = 32,\n",
        "                                            class_mode = 'binary')\n",
        "\n",
        "val_datagen = ImageDataGenerator(rescale = 1/255)\n",
        "val_set = test_datagen.flow_from_directory('/content/drive/MyDrive/ML_miniproject/archive (1)/chest_xray (1)/val (1)',\n",
        "                                            target_size=(224,224),\n",
        "                                           color_mode=\"rgb\",\n",
        "                                           batch_size = 2,\n",
        "                                           class_mode = 'binary')"
      ],
      "metadata": {
        "colab": {
          "base_uri": "https://localhost:8080/"
        },
        "id": "jNygWpdVd6iC",
        "outputId": "22357dec-4ab1-4734-8d95-1993d92caf6c"
      },
      "execution_count": null,
      "outputs": [
        {
          "output_type": "stream",
          "name": "stdout",
          "text": [
            "Found 5219 images belonging to 2 classes.\n",
            "Found 624 images belonging to 2 classes.\n",
            "Found 16 images belonging to 2 classes.\n"
          ]
        }
      ]
    },
    {
      "cell_type": "code",
      "source": [
        "early_stopping = tf.keras.callbacks.EarlyStopping(monitor='val_loss',\n",
        "                                                  patience=10)"
      ],
      "metadata": {
        "id": "XYkegH24eEU8"
      },
      "execution_count": null,
      "outputs": []
    },
    {
      "cell_type": "code",
      "source": [
        "lr = tf.keras.callbacks.ReduceLROnPlateau(monitor='val_loss',\n",
        "                                          patience=8)"
      ],
      "metadata": {
        "id": "vc0MANSLeFFN"
      },
      "execution_count": null,
      "outputs": []
    },
    {
      "cell_type": "code",
      "source": [
        "def create_model2():\n",
        "  model2 = Sequential()\n",
        "\n",
        "  pretrained_model=tf.keras.applications.DenseNet201(\n",
        "    include_top=False,\n",
        "                    input_shape=(224,224,3),\n",
        "                    pooling='avg',classes=2,\n",
        "                    weights='imagenet')\n",
        "  for layer in pretrained_model.layers:\n",
        "          layer.trainable=False\n",
        "\n",
        "  model2.add(pretrained_model)\n",
        "  model2.add(Flatten())\n",
        "  model2.add(Dense(512, activation='relu'))\n",
        "  \n",
        "  model2.add(Dense(1, activation='sigmoid'))\n",
        "  model2.compile(optimizer=Adam(lr=0.001),loss='binary_crossentropy',metrics=['accuracy'])\n",
        "\n",
        "  return model2"
      ],
      "metadata": {
        "id": "NB3DLNGmei0v"
      },
      "execution_count": null,
      "outputs": []
    },
    {
      "cell_type": "code",
      "source": [
        "densenet_model_new = create_model2()"
      ],
      "metadata": {
        "colab": {
          "base_uri": "https://localhost:8080/"
        },
        "id": "G9cdApWcgqE1",
        "outputId": "b466efd0-ebae-4e00-d9de-680a80dd66d8"
      },
      "execution_count": null,
      "outputs": [
        {
          "output_type": "stream",
          "name": "stderr",
          "text": [
            "/usr/local/lib/python3.7/dist-packages/keras/optimizer_v2/adam.py:105: UserWarning: The `lr` argument is deprecated, use `learning_rate` instead.\n",
            "  super(Adam, self).__init__(name, **kwargs)\n"
          ]
        }
      ]
    },
    {
      "cell_type": "code",
      "source": [
        "densenet_model_new.fit(x = training_set, validation_data=val_set,steps_per_epoch=100,callbacks=[early_stopping,lr], epochs = 5,batch_size=32)"
      ],
      "metadata": {
        "colab": {
          "base_uri": "https://localhost:8080/"
        },
        "id": "1hgIVvuLgv2t",
        "outputId": "2569153f-5f6a-420c-c4f0-15df7f5f2172"
      },
      "execution_count": null,
      "outputs": [
        {
          "output_type": "stream",
          "name": "stdout",
          "text": [
            "Epoch 1/5\n",
            "100/100 [==============================] - 771s 8s/step - loss: 0.2360 - accuracy: 0.9019 - val_loss: 0.8273 - val_accuracy: 0.6250 - lr: 0.0010\n",
            "Epoch 2/5\n",
            "100/100 [==============================] - 760s 8s/step - loss: 0.1582 - accuracy: 0.9394 - val_loss: 0.5457 - val_accuracy: 0.8125 - lr: 0.0010\n",
            "Epoch 3/5\n",
            "100/100 [==============================] - 753s 8s/step - loss: 0.1498 - accuracy: 0.9413 - val_loss: 0.2429 - val_accuracy: 0.8750 - lr: 0.0010\n",
            "Epoch 4/5\n",
            "100/100 [==============================] - 748s 7s/step - loss: 0.1435 - accuracy: 0.9464 - val_loss: 0.3158 - val_accuracy: 0.8125 - lr: 0.0010\n",
            "Epoch 5/5\n",
            "100/100 [==============================] - 735s 7s/step - loss: 0.1249 - accuracy: 0.9513 - val_loss: 0.1610 - val_accuracy: 0.9375 - lr: 0.0010\n"
          ]
        },
        {
          "output_type": "execute_result",
          "data": {
            "text/plain": [
              "<keras.callbacks.History at 0x7fd693a063d0>"
            ]
          },
          "metadata": {},
          "execution_count": 8
        }
      ]
    },
    {
      "cell_type": "code",
      "source": [
        "from keras.callbacks import ModelCheckpoint\n",
        "mc = ModelCheckpoint('best_model.h5', monitor='val_loss', mode='min', save_best_only=True)\n",
        "mc"
      ],
      "metadata": {
        "colab": {
          "base_uri": "https://localhost:8080/"
        },
        "id": "tfRrEVSzoCR_",
        "outputId": "3ef80918-c430-40a9-a295-79b919b5b3e1"
      },
      "execution_count": null,
      "outputs": [
        {
          "output_type": "execute_result",
          "data": {
            "text/plain": [
              "<keras.callbacks.ModelCheckpoint at 0x7fd68cd21d90>"
            ]
          },
          "metadata": {},
          "execution_count": 9
        }
      ]
    },
    {
      "cell_type": "code",
      "source": [
        "densenet_model_new.save('final_model_densnet.h5') "
      ],
      "metadata": {
        "id": "o8MPBW5kooPI"
      },
      "execution_count": null,
      "outputs": []
    },
    {
      "cell_type": "code",
      "source": [
        "import numpy as np\n",
        "from keras.preprocessing import image\n",
        "from google.colab import files\n",
        "from keras.models import load_model\n",
        "from io import BytesIO\n",
        "from PIL import Image\n",
        "model=load_model('final_model_densnet.h5')"
      ],
      "metadata": {
        "id": "ZuDS56O2bt4Y"
      },
      "execution_count": null,
      "outputs": []
    },
    {
      "cell_type": "code",
      "source": [
        "score = model.evaluate(training_set)\n",
        "\n",
        "print(\"Train Loss: \", score[0])\n",
        "print(\"Train Accuracy: \", score[1])\n",
        "\n",
        "score = model.evaluate(test_set)\n",
        "print(\"\\nTest loss: \", score[0])\n",
        "print(\"Test Accuracy: \", score[1])"
      ],
      "metadata": {
        "colab": {
          "base_uri": "https://localhost:8080/"
        },
        "id": "wMI048OHbuIi",
        "outputId": "0144d156-bbfa-4cf3-c2a0-bc001cea652d"
      },
      "execution_count": null,
      "outputs": [
        {
          "output_type": "stream",
          "name": "stdout",
          "text": [
            "164/164 [==============================] - 2828s 17s/step - loss: 0.1293 - accuracy: 0.9486\n",
            "Train Loss:  0.12926560640335083\n",
            "Train Accuracy:  0.9486491680145264\n",
            "20/20 [==============================] - 319s 16s/step - loss: 0.2678 - accuracy: 0.8814\n",
            "\n",
            "Test loss:  0.26779818534851074\n",
            "Test Accuracy:  0.8814102411270142\n"
          ]
        }
      ]
    }
  ]
}